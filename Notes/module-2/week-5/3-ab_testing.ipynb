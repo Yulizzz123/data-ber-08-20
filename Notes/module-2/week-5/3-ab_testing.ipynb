{
 "cells": [
  {
   "cell_type": "code",
   "execution_count": 2,
   "metadata": {},
   "outputs": [],
   "source": [
    "import pandas as pd\n",
    "import numpy as np\n",
    "import uuid\n",
    "import random\n",
    "import seaborn as sns\n",
    "import matplotlib.pyplot as plt\n",
    "import scipy\n",
    "from pandas.plotting import register_matplotlib_converters\n",
    "register_matplotlib_converters()\n",
    "\n",
    "%matplotlib inline\n",
    "sns.set_style(\"ticks\")"
   ]
  },
  {
   "cell_type": "markdown",
   "metadata": {},
   "source": [
    "Olist conducted an experiment to see if altering the delivery estimation could result in higher review scores.\n",
    "\n",
    "# Generate random data for A/B testing"
   ]
  },
  {
   "cell_type": "code",
   "execution_count": 3,
   "metadata": {},
   "outputs": [],
   "source": [
    "date_range = pd.date_range(start=\"2018-07-01\", end=\"2018-09-01\")"
   ]
  },
  {
   "cell_type": "code",
   "execution_count": 4,
   "metadata": {},
   "outputs": [
    {
     "data": {
      "text/plain": [
       "DatetimeIndex(['2018-07-01', '2018-07-02', '2018-07-03', '2018-07-04',\n",
       "               '2018-07-05', '2018-07-06', '2018-07-07', '2018-07-08',\n",
       "               '2018-07-09', '2018-07-10', '2018-07-11', '2018-07-12',\n",
       "               '2018-07-13', '2018-07-14', '2018-07-15', '2018-07-16',\n",
       "               '2018-07-17', '2018-07-18', '2018-07-19', '2018-07-20',\n",
       "               '2018-07-21', '2018-07-22', '2018-07-23', '2018-07-24',\n",
       "               '2018-07-25', '2018-07-26', '2018-07-27', '2018-07-28',\n",
       "               '2018-07-29', '2018-07-30', '2018-07-31', '2018-08-01',\n",
       "               '2018-08-02', '2018-08-03', '2018-08-04', '2018-08-05',\n",
       "               '2018-08-06', '2018-08-07', '2018-08-08', '2018-08-09',\n",
       "               '2018-08-10', '2018-08-11', '2018-08-12', '2018-08-13',\n",
       "               '2018-08-14', '2018-08-15', '2018-08-16', '2018-08-17',\n",
       "               '2018-08-18', '2018-08-19', '2018-08-20', '2018-08-21',\n",
       "               '2018-08-22', '2018-08-23', '2018-08-24', '2018-08-25',\n",
       "               '2018-08-26', '2018-08-27', '2018-08-28', '2018-08-29',\n",
       "               '2018-08-30', '2018-08-31', '2018-09-01'],\n",
       "              dtype='datetime64[ns]', freq='D')"
      ]
     },
     "execution_count": 4,
     "metadata": {},
     "output_type": "execute_result"
    }
   ],
   "source": [
    "date_range"
   ]
  },
  {
   "cell_type": "code",
   "execution_count": 5,
   "metadata": {},
   "outputs": [
    {
     "data": {
      "text/plain": [
       "numpy.datetime64('2018-07-15')"
      ]
     },
     "execution_count": 5,
     "metadata": {},
     "output_type": "execute_result"
    }
   ],
   "source": [
    "np.datetime64(\"2018-07-15\")"
   ]
  },
  {
   "cell_type": "code",
   "execution_count": 6,
   "metadata": {},
   "outputs": [],
   "source": [
    "control = {1: 10,\n",
    "           2: 3,\n",
    "           3: 8,\n",
    "           4: 20,\n",
    "           5: 59}\n",
    "\n",
    "test = {1: 10,\n",
    "        2: 2,\n",
    "        3: 10,\n",
    "        4: 22,\n",
    "        5: 63}\n",
    "\n",
    "def generate_review_distribution(freq_dict):\n",
    "    l = []\n",
    "    for key, value in freq_dict.items():\n",
    "        l += [key] * value\n",
    "    return l"
   ]
  },
  {
   "cell_type": "code",
   "execution_count": 7,
   "metadata": {},
   "outputs": [],
   "source": [
    "def get_random_review(date, group):\n",
    "    if (group == 102) & (date >= np.datetime64(\"2018-07-15\")):\n",
    "        random_reviews = generate_review_distribution(test)\n",
    "    else:\n",
    "        random_reviews = generate_review_distribution(control)\n",
    "    return random.choice(random_reviews)\n",
    "    \n",
    "def generate_random_observation(date, group):\n",
    "    return str(uuid.uuid4()), get_random_review(date, group)"
   ]
  },
  {
   "cell_type": "code",
   "execution_count": 32,
   "metadata": {},
   "outputs": [],
   "source": [
    "# create list of dicts to later on convert to a dataframe\n",
    "rows = []\n",
    "for date in date_range:\n",
    "    # two groups\n",
    "    for group in [101,102]:\n",
    "        # pick a random number of orders btw 350 and 450\n",
    "        orders = random.choice(range(350,450))\n",
    "        for obs in range(orders):\n",
    "            order_id, review_score = generate_random_observation(date, group)\n",
    "            rows.append({\"date_id\": date,\n",
    "                         \"experiment_id\": group,\n",
    "                         \"order_id\": order_id,\n",
    "                         \"review_score\": review_score})\n",
    "            \n",
    "df = pd.DataFrame(rows)"
   ]
  },
  {
   "cell_type": "markdown",
   "metadata": {},
   "source": [
    "### Plot data and calculate means"
   ]
  },
  {
   "cell_type": "code",
   "execution_count": 39,
   "metadata": {},
   "outputs": [
    {
     "data": {
      "text/html": [
       "<div>\n",
       "<style scoped>\n",
       "    .dataframe tbody tr th:only-of-type {\n",
       "        vertical-align: middle;\n",
       "    }\n",
       "\n",
       "    .dataframe tbody tr th {\n",
       "        vertical-align: top;\n",
       "    }\n",
       "\n",
       "    .dataframe thead th {\n",
       "        text-align: right;\n",
       "    }\n",
       "</style>\n",
       "<table border=\"1\" class=\"dataframe\">\n",
       "  <thead>\n",
       "    <tr style=\"text-align: right;\">\n",
       "      <th></th>\n",
       "      <th>date_id</th>\n",
       "      <th>experiment_id</th>\n",
       "      <th>order_id</th>\n",
       "      <th>review_score</th>\n",
       "    </tr>\n",
       "  </thead>\n",
       "  <tbody>\n",
       "  </tbody>\n",
       "</table>\n",
       "</div>"
      ],
      "text/plain": [
       "Empty DataFrame\n",
       "Columns: [date_id, experiment_id, order_id, review_score]\n",
       "Index: []"
      ]
     },
     "execution_count": 39,
     "metadata": {},
     "output_type": "execute_result"
    }
   ],
   "source": [
    "#df.loc[df[\"experiment_id\"]==100]\n",
    "#check and see what experiment_id 100 is from"
   ]
  },
  {
   "cell_type": "code",
   "execution_count": 40,
   "metadata": {},
   "outputs": [
    {
     "data": {
      "text/html": [
       "<div>\n",
       "<style scoped>\n",
       "    .dataframe tbody tr th:only-of-type {\n",
       "        vertical-align: middle;\n",
       "    }\n",
       "\n",
       "    .dataframe tbody tr th {\n",
       "        vertical-align: top;\n",
       "    }\n",
       "\n",
       "    .dataframe thead th {\n",
       "        text-align: right;\n",
       "    }\n",
       "</style>\n",
       "<table border=\"1\" class=\"dataframe\">\n",
       "  <thead>\n",
       "    <tr style=\"text-align: right;\">\n",
       "      <th></th>\n",
       "      <th>date_id</th>\n",
       "      <th>experiment_id</th>\n",
       "      <th>order_id</th>\n",
       "      <th>review_score</th>\n",
       "    </tr>\n",
       "  </thead>\n",
       "  <tbody>\n",
       "    <tr>\n",
       "      <th>0</th>\n",
       "      <td>2018-07-01</td>\n",
       "      <td>101</td>\n",
       "      <td>daf98958-e883-4480-b4c1-856291d33168</td>\n",
       "      <td>4</td>\n",
       "    </tr>\n",
       "    <tr>\n",
       "      <th>1</th>\n",
       "      <td>2018-07-01</td>\n",
       "      <td>101</td>\n",
       "      <td>e294066f-e859-4326-ad1f-a993047a999e</td>\n",
       "      <td>4</td>\n",
       "    </tr>\n",
       "    <tr>\n",
       "      <th>2</th>\n",
       "      <td>2018-07-01</td>\n",
       "      <td>101</td>\n",
       "      <td>3d2a58df-dfad-4fd5-887d-f409171c2e06</td>\n",
       "      <td>5</td>\n",
       "    </tr>\n",
       "    <tr>\n",
       "      <th>3</th>\n",
       "      <td>2018-07-01</td>\n",
       "      <td>101</td>\n",
       "      <td>654857c3-be8f-4431-8065-b83e4b5a0e31</td>\n",
       "      <td>4</td>\n",
       "    </tr>\n",
       "    <tr>\n",
       "      <th>4</th>\n",
       "      <td>2018-07-01</td>\n",
       "      <td>101</td>\n",
       "      <td>dc73aee0-cdb6-49bb-acad-5437022cdd32</td>\n",
       "      <td>1</td>\n",
       "    </tr>\n",
       "  </tbody>\n",
       "</table>\n",
       "</div>"
      ],
      "text/plain": [
       "     date_id  experiment_id                              order_id  \\\n",
       "0 2018-07-01            101  daf98958-e883-4480-b4c1-856291d33168   \n",
       "1 2018-07-01            101  e294066f-e859-4326-ad1f-a993047a999e   \n",
       "2 2018-07-01            101  3d2a58df-dfad-4fd5-887d-f409171c2e06   \n",
       "3 2018-07-01            101  654857c3-be8f-4431-8065-b83e4b5a0e31   \n",
       "4 2018-07-01            101  dc73aee0-cdb6-49bb-acad-5437022cdd32   \n",
       "\n",
       "   review_score  \n",
       "0             4  \n",
       "1             4  \n",
       "2             5  \n",
       "3             4  \n",
       "4             1  "
      ]
     },
     "execution_count": 40,
     "metadata": {},
     "output_type": "execute_result"
    }
   ],
   "source": [
    "df.head()"
   ]
  },
  {
   "cell_type": "code",
   "execution_count": 33,
   "metadata": {},
   "outputs": [
    {
     "data": {
      "image/png": "[encoded data removed]",
      "text/plain": [
       "<Figure size 720x576 with 1 Axes>"
      ]
     },
     "metadata": {},
     "output_type": "display_data"
    }
   ],
   "source": [
    "fig, ax = plt.subplots(figsize=(10,8))\n",
    "sns.lineplot(data=df.groupby([\"date_id\", \"experiment_id\"]).mean().reset_index(),\n",
    "             x=\"date_id\",\n",
    "             y=\"review_score\",\n",
    "             hue=\"experiment_id\",\n",
    "             ax=ax);\n",
    "ax.axvline(\"2018-07-15\", color=\"r\")\n",
    "ax.set_ylim(3,5);"
   ]
  },
  {
   "cell_type": "code",
   "execution_count": 41,
   "metadata": {},
   "outputs": [
    {
     "data": {
      "text/html": [
       "<div>\n",
       "<style scoped>\n",
       "    .dataframe tbody tr th:only-of-type {\n",
       "        vertical-align: middle;\n",
       "    }\n",
       "\n",
       "    .dataframe tbody tr th {\n",
       "        vertical-align: top;\n",
       "    }\n",
       "\n",
       "    .dataframe thead th {\n",
       "        text-align: right;\n",
       "    }\n",
       "</style>\n",
       "<table border=\"1\" class=\"dataframe\">\n",
       "  <thead>\n",
       "    <tr style=\"text-align: right;\">\n",
       "      <th></th>\n",
       "      <th>review_score</th>\n",
       "    </tr>\n",
       "    <tr>\n",
       "      <th>experiment_id</th>\n",
       "      <th></th>\n",
       "    </tr>\n",
       "  </thead>\n",
       "  <tbody>\n",
       "    <tr>\n",
       "      <th>101</th>\n",
       "      <td>4.146837</td>\n",
       "    </tr>\n",
       "    <tr>\n",
       "      <th>102</th>\n",
       "      <td>4.184788</td>\n",
       "    </tr>\n",
       "  </tbody>\n",
       "</table>\n",
       "</div>"
      ],
      "text/plain": [
       "               review_score\n",
       "experiment_id              \n",
       "101                4.146837\n",
       "102                4.184788"
      ]
     },
     "execution_count": 41,
     "metadata": {},
     "output_type": "execute_result"
    }
   ],
   "source": [
    "df[df[\"date_id\"] >= \"2018-07-15\"].groupby(\"experiment_id\").mean()"
   ]
  },
  {
   "cell_type": "code",
   "execution_count": 35,
   "metadata": {},
   "outputs": [],
   "source": [
    "#df.to_csv(\"data/olist_experiment_data.csv\")"
   ]
  },
  {
   "cell_type": "code",
   "execution_count": 3,
   "metadata": {},
   "outputs": [],
   "source": [
    "df = (pd.read_csv(\"data/olist_experiment_data.csv\")\n",
    "      .drop(columns=\"Unnamed: 0\"))\n",
    "df[\"date_id\"] = pd.to_datetime(df[\"date_id\"])"
   ]
  },
  {
   "cell_type": "code",
   "execution_count": 4,
   "metadata": {},
   "outputs": [
    {
     "data": {
      "text/html": [
       "<div>\n",
       "<style scoped>\n",
       "    .dataframe tbody tr th:only-of-type {\n",
       "        vertical-align: middle;\n",
       "    }\n",
       "\n",
       "    .dataframe tbody tr th {\n",
       "        vertical-align: top;\n",
       "    }\n",
       "\n",
       "    .dataframe thead th {\n",
       "        text-align: right;\n",
       "    }\n",
       "</style>\n",
       "<table border=\"1\" class=\"dataframe\">\n",
       "  <thead>\n",
       "    <tr style=\"text-align: right;\">\n",
       "      <th></th>\n",
       "      <th>date_id</th>\n",
       "      <th>experiment_id</th>\n",
       "      <th>order_id</th>\n",
       "      <th>review_score</th>\n",
       "    </tr>\n",
       "  </thead>\n",
       "  <tbody>\n",
       "    <tr>\n",
       "      <th>0</th>\n",
       "      <td>2018-07-01</td>\n",
       "      <td>101</td>\n",
       "      <td>daf98958-e883-4480-b4c1-856291d33168</td>\n",
       "      <td>4</td>\n",
       "    </tr>\n",
       "    <tr>\n",
       "      <th>1</th>\n",
       "      <td>2018-07-01</td>\n",
       "      <td>101</td>\n",
       "      <td>e294066f-e859-4326-ad1f-a993047a999e</td>\n",
       "      <td>4</td>\n",
       "    </tr>\n",
       "    <tr>\n",
       "      <th>2</th>\n",
       "      <td>2018-07-01</td>\n",
       "      <td>101</td>\n",
       "      <td>3d2a58df-dfad-4fd5-887d-f409171c2e06</td>\n",
       "      <td>5</td>\n",
       "    </tr>\n",
       "    <tr>\n",
       "      <th>3</th>\n",
       "      <td>2018-07-01</td>\n",
       "      <td>101</td>\n",
       "      <td>654857c3-be8f-4431-8065-b83e4b5a0e31</td>\n",
       "      <td>4</td>\n",
       "    </tr>\n",
       "    <tr>\n",
       "      <th>4</th>\n",
       "      <td>2018-07-01</td>\n",
       "      <td>101</td>\n",
       "      <td>dc73aee0-cdb6-49bb-acad-5437022cdd32</td>\n",
       "      <td>1</td>\n",
       "    </tr>\n",
       "  </tbody>\n",
       "</table>\n",
       "</div>"
      ],
      "text/plain": [
       "     date_id  experiment_id                              order_id  \\\n",
       "0 2018-07-01            101  daf98958-e883-4480-b4c1-856291d33168   \n",
       "1 2018-07-01            101  e294066f-e859-4326-ad1f-a993047a999e   \n",
       "2 2018-07-01            101  3d2a58df-dfad-4fd5-887d-f409171c2e06   \n",
       "3 2018-07-01            101  654857c3-be8f-4431-8065-b83e4b5a0e31   \n",
       "4 2018-07-01            101  dc73aee0-cdb6-49bb-acad-5437022cdd32   \n",
       "\n",
       "   review_score  \n",
       "0             4  \n",
       "1             4  \n",
       "2             5  \n",
       "3             4  \n",
       "4             1  "
      ]
     },
     "execution_count": 4,
     "metadata": {},
     "output_type": "execute_result"
    }
   ],
   "source": [
    "df.head()"
   ]
  },
  {
   "cell_type": "markdown",
   "metadata": {},
   "source": [
    "How do we know if this difference did not just occure by chance?\n",
    "We have uncertainty because we are looking at a sample and want to generalize to all users.\n",
    "\n",
    "\n",
    "We use statistics => t-test\n",
    "\n",
    "Use the Welch's t-test (two independent samples, unequal sample sizes, unequal variance) (Heteroskedasticty)"
   ]
  },
  {
   "cell_type": "code",
   "execution_count": 5,
   "metadata": {},
   "outputs": [],
   "source": [
    "df_e = df.loc[df[\"date_id\"] >= \"2018-07-15\"]\n",
    "\n",
    "group_a = df_e.loc[df[\"experiment_id\"] == 101, \"review_score\"]\n",
    "group_b = df_e.loc[df[\"experiment_id\"] == 102, \"review_score\"]"
   ]
  },
  {
   "cell_type": "code",
   "execution_count": 6,
   "metadata": {},
   "outputs": [
    {
     "data": {
      "text/plain": [
       "19491"
      ]
     },
     "execution_count": 6,
     "metadata": {},
     "output_type": "execute_result"
    }
   ],
   "source": [
    "len(group_a)"
   ]
  },
  {
   "cell_type": "code",
   "execution_count": 7,
   "metadata": {},
   "outputs": [
    {
     "data": {
      "text/plain": [
       "19590"
      ]
     },
     "execution_count": 7,
     "metadata": {},
     "output_type": "execute_result"
    }
   ],
   "source": [
    "len(group_b)"
   ]
  },
  {
   "cell_type": "code",
   "execution_count": 8,
   "metadata": {},
   "outputs": [],
   "source": [
    "t,p = scipy.stats.ttest_ind(group_a, group_b, equal_var=False)"
   ]
  },
  {
   "cell_type": "code",
   "execution_count": 9,
   "metadata": {},
   "outputs": [
    {
     "data": {
      "text/plain": [
       "0.0031660921355939507"
      ]
     },
     "execution_count": 9,
     "metadata": {},
     "output_type": "execute_result"
    }
   ],
   "source": [
    "p"
   ]
  },
  {
   "cell_type": "code",
   "execution_count": 10,
   "metadata": {},
   "outputs": [
    {
     "name": "stdout",
     "output_type": "stream",
     "text": [
      "the p-value is 0.317%\n"
     ]
    }
   ],
   "source": [
    "print(f\"the p-value is {round(p*100, 3)}%\")"
   ]
  },
  {
   "cell_type": "code",
   "execution_count": 11,
   "metadata": {},
   "outputs": [
    {
     "name": "stdout",
     "output_type": "stream",
     "text": [
      "the t-statistic is -2.951\n"
     ]
    }
   ],
   "source": [
    "print(f\"the t-statistic is {round(t,3)}\")"
   ]
  },
  {
   "cell_type": "markdown",
   "metadata": {},
   "source": [
    "## What the *$&% if the p-value?"
   ]
  },
  {
   "cell_type": "markdown",
   "metadata": {},
   "source": [
    "# Central Limit Theorem"
   ]
  },
  {
   "cell_type": "code",
   "execution_count": 12,
   "metadata": {},
   "outputs": [
    {
     "data": {
      "image/png": "[encoded data removed]",
      "text/plain": [
       "<Figure size 432x288 with 1 Axes>"
      ]
     },
     "metadata": {},
     "output_type": "display_data"
    }
   ],
   "source": [
    "sns.distplot(np.random.exponential(size=1000));"
   ]
  },
  {
   "cell_type": "code",
   "execution_count": 13,
   "metadata": {},
   "outputs": [],
   "source": [
    "sample_1 = np.random.exponential(size=1000)"
   ]
  },
  {
   "cell_type": "code",
   "execution_count": 14,
   "metadata": {},
   "outputs": [
    {
     "data": {
      "image/png": "[encoded data removed]",
      "text/plain": [
       "<Figure size 432x288 with 1 Axes>"
      ]
     },
     "metadata": {},
     "output_type": "display_data"
    }
   ],
   "source": [
    "sns.distplot(sample_1);"
   ]
  },
  {
   "cell_type": "code",
   "execution_count": 15,
   "metadata": {},
   "outputs": [
    {
     "data": {
      "text/plain": [
       "0.9991669027374164"
      ]
     },
     "execution_count": 15,
     "metadata": {},
     "output_type": "execute_result"
    }
   ],
   "source": [
    "sample_1.mean()"
   ]
  },
  {
   "cell_type": "code",
   "execution_count": 16,
   "metadata": {},
   "outputs": [
    {
     "data": {
      "text/plain": [
       "1.0385864061402035"
      ]
     },
     "execution_count": 16,
     "metadata": {},
     "output_type": "execute_result"
    }
   ],
   "source": [
    "sample_2 = np.random.exponential(size=1000)\n",
    "sample_2.mean()"
   ]
  },
  {
   "cell_type": "code",
   "execution_count": 17,
   "metadata": {},
   "outputs": [
    {
     "data": {
      "text/plain": [
       "1.0149538064967842"
      ]
     },
     "execution_count": 17,
     "metadata": {},
     "output_type": "execute_result"
    }
   ],
   "source": [
    "sample_3 = np.random.exponential(size=1000)\n",
    "sample_3.mean()"
   ]
  },
  {
   "cell_type": "code",
   "execution_count": 18,
   "metadata": {},
   "outputs": [],
   "source": [
    "def plot_hist(n_samples, sample_size, ax):\n",
    "    sample_means = [(np.random.exponential(size=sample_size)).mean() for i in range(n_samples)]\n",
    "    sns.distplot(sample_means, ax=ax)"
   ]
  },
  {
   "cell_type": "code",
   "execution_count": 19,
   "metadata": {},
   "outputs": [
    {
     "ename": "TypeError",
     "evalue": "plot_hist() missing 1 required positional argument: 'ax'",
     "output_type": "error",
     "traceback": [
      "\u001b[0;31m---------------------------------------------------------------------------\u001b[0m",
      "\u001b[0;31mTypeError\u001b[0m                                 Traceback (most recent call last)",
      "\u001b[0;32m<ipython-input-19-5af617fe71e2>\u001b[0m in \u001b[0;36m<module>\u001b[0;34m\u001b[0m\n\u001b[0;32m----> 1\u001b[0;31m \u001b[0mplot_hist\u001b[0m\u001b[0;34m(\u001b[0m\u001b[0mn_samples\u001b[0m\u001b[0;34m=\u001b[0m\u001b[0;36m1000\u001b[0m\u001b[0;34m,\u001b[0m \u001b[0msample_size\u001b[0m\u001b[0;34m=\u001b[0m\u001b[0;36m500\u001b[0m\u001b[0;34m)\u001b[0m\u001b[0;34m\u001b[0m\u001b[0;34m\u001b[0m\u001b[0m\n\u001b[0m",
      "\u001b[0;31mTypeError\u001b[0m: plot_hist() missing 1 required positional argument: 'ax'"
     ]
    }
   ],
   "source": [
    "plot_hist(n_samples=1000, sample_size=500)"
   ]
  },
  {
   "cell_type": "markdown",
   "metadata": {},
   "source": [
    "Tweak the sample size parameter and check its influence on the shape"
   ]
  },
  {
   "cell_type": "code",
   "execution_count": 20,
   "metadata": {},
   "outputs": [
    {
     "data": {
      "image/png": "[encoded data removed]",
      "text/plain": [
       "<Figure size 720x432 with 1 Axes>"
      ]
     },
     "metadata": {},
     "output_type": "display_data"
    }
   ],
   "source": [
    "fig,ax = plt.subplots(figsize=(10,6))\n",
    "\n",
    "plot_hist(n_samples=1000, sample_size=100, ax=ax)\n",
    "plot_hist(n_samples=1000, sample_size=500, ax=ax)\n",
    "plot_hist(n_samples=1000, sample_size=700, ax=ax)"
   ]
  },
  {
   "cell_type": "markdown",
   "metadata": {},
   "source": [
    "Tweak the number of samples you are taking and check its influence on the shape"
   ]
  },
  {
   "cell_type": "code",
   "execution_count": 21,
   "metadata": {},
   "outputs": [
    {
     "data": {
      "image/png": "[encoded data removed]",
      "text/plain": [
       "<Figure size 720x432 with 1 Axes>"
      ]
     },
     "metadata": {},
     "output_type": "display_data"
    }
   ],
   "source": [
    "fig,ax = plt.subplots(figsize=(10,6))\n",
    "\n",
    "plot_hist(n_samples=10, sample_size=500, ax=ax)\n",
    "plot_hist(n_samples=100, sample_size=500, ax=ax)\n",
    "plot_hist(n_samples=1000, sample_size=500, ax=ax)"
   ]
  },
  {
   "cell_type": "markdown",
   "metadata": {},
   "source": [
    "# Analysis\n",
    "Testing the hypothesis: \n",
    "\n",
    "Null Hypothesis: \n",
    "\n",
    "$H_0 : avg\\_score_{control} = avg\\_score_{test}$\n",
    "\n",
    "<=> $H_0 : avg\\_score_{control} - avg\\_score_{test} = 0$\n",
    "\n",
    "Against the alternative hypothesis: \n",
    "\n",
    "$H_1 : avg\\_score_{control} - avg\\_score_{test} \\neq 0$\n",
    "\n",
    "-> The treatment had a non-zero impact: The overestimation of delivery_days had an impact on review_score\n"
   ]
  },
  {
   "cell_type": "code",
   "execution_count": 22,
   "metadata": {},
   "outputs": [
    {
     "data": {
      "text/html": [
       "<div>\n",
       "<style scoped>\n",
       "    .dataframe tbody tr th:only-of-type {\n",
       "        vertical-align: middle;\n",
       "    }\n",
       "\n",
       "    .dataframe tbody tr th {\n",
       "        vertical-align: top;\n",
       "    }\n",
       "\n",
       "    .dataframe thead th {\n",
       "        text-align: right;\n",
       "    }\n",
       "</style>\n",
       "<table border=\"1\" class=\"dataframe\">\n",
       "  <thead>\n",
       "    <tr style=\"text-align: right;\">\n",
       "      <th></th>\n",
       "      <th>date_id</th>\n",
       "      <th>experiment_id</th>\n",
       "      <th>order_id</th>\n",
       "      <th>review_score</th>\n",
       "    </tr>\n",
       "  </thead>\n",
       "  <tbody>\n",
       "    <tr>\n",
       "      <th>0</th>\n",
       "      <td>2018-07-01</td>\n",
       "      <td>101</td>\n",
       "      <td>daf98958-e883-4480-b4c1-856291d33168</td>\n",
       "      <td>4</td>\n",
       "    </tr>\n",
       "    <tr>\n",
       "      <th>1</th>\n",
       "      <td>2018-07-01</td>\n",
       "      <td>101</td>\n",
       "      <td>e294066f-e859-4326-ad1f-a993047a999e</td>\n",
       "      <td>4</td>\n",
       "    </tr>\n",
       "    <tr>\n",
       "      <th>2</th>\n",
       "      <td>2018-07-01</td>\n",
       "      <td>101</td>\n",
       "      <td>3d2a58df-dfad-4fd5-887d-f409171c2e06</td>\n",
       "      <td>5</td>\n",
       "    </tr>\n",
       "    <tr>\n",
       "      <th>3</th>\n",
       "      <td>2018-07-01</td>\n",
       "      <td>101</td>\n",
       "      <td>654857c3-be8f-4431-8065-b83e4b5a0e31</td>\n",
       "      <td>4</td>\n",
       "    </tr>\n",
       "    <tr>\n",
       "      <th>4</th>\n",
       "      <td>2018-07-01</td>\n",
       "      <td>101</td>\n",
       "      <td>dc73aee0-cdb6-49bb-acad-5437022cdd32</td>\n",
       "      <td>1</td>\n",
       "    </tr>\n",
       "  </tbody>\n",
       "</table>\n",
       "</div>"
      ],
      "text/plain": [
       "     date_id  experiment_id                              order_id  \\\n",
       "0 2018-07-01            101  daf98958-e883-4480-b4c1-856291d33168   \n",
       "1 2018-07-01            101  e294066f-e859-4326-ad1f-a993047a999e   \n",
       "2 2018-07-01            101  3d2a58df-dfad-4fd5-887d-f409171c2e06   \n",
       "3 2018-07-01            101  654857c3-be8f-4431-8065-b83e4b5a0e31   \n",
       "4 2018-07-01            101  dc73aee0-cdb6-49bb-acad-5437022cdd32   \n",
       "\n",
       "   review_score  \n",
       "0             4  \n",
       "1             4  \n",
       "2             5  \n",
       "3             4  \n",
       "4             1  "
      ]
     },
     "execution_count": 22,
     "metadata": {},
     "output_type": "execute_result"
    }
   ],
   "source": [
    "df.head()"
   ]
  },
  {
   "cell_type": "code",
   "execution_count": 23,
   "metadata": {},
   "outputs": [],
   "source": [
    "df_exp = df[df[\"date_id\"]>= \"2018-07-15\"].copy()"
   ]
  },
  {
   "cell_type": "code",
   "execution_count": 24,
   "metadata": {},
   "outputs": [
    {
     "data": {
      "text/html": [
       "<div>\n",
       "<style scoped>\n",
       "    .dataframe tbody tr th:only-of-type {\n",
       "        vertical-align: middle;\n",
       "    }\n",
       "\n",
       "    .dataframe tbody tr th {\n",
       "        vertical-align: top;\n",
       "    }\n",
       "\n",
       "    .dataframe thead th {\n",
       "        text-align: right;\n",
       "    }\n",
       "</style>\n",
       "<table border=\"1\" class=\"dataframe\">\n",
       "  <thead>\n",
       "    <tr style=\"text-align: right;\">\n",
       "      <th></th>\n",
       "      <th>review_score</th>\n",
       "    </tr>\n",
       "    <tr>\n",
       "      <th>experiment_id</th>\n",
       "      <th></th>\n",
       "    </tr>\n",
       "  </thead>\n",
       "  <tbody>\n",
       "    <tr>\n",
       "      <th>101</th>\n",
       "      <td>4.146837</td>\n",
       "    </tr>\n",
       "    <tr>\n",
       "      <th>102</th>\n",
       "      <td>4.184788</td>\n",
       "    </tr>\n",
       "  </tbody>\n",
       "</table>\n",
       "</div>"
      ],
      "text/plain": [
       "               review_score\n",
       "experiment_id              \n",
       "101                4.146837\n",
       "102                4.184788"
      ]
     },
     "execution_count": 24,
     "metadata": {},
     "output_type": "execute_result"
    }
   ],
   "source": [
    "means = df_exp.groupby(\"experiment_id\").mean()\n",
    "means"
   ]
  },
  {
   "cell_type": "code",
   "execution_count": 25,
   "metadata": {},
   "outputs": [
    {
     "data": {
      "text/html": [
       "<div>\n",
       "<style scoped>\n",
       "    .dataframe tbody tr th:only-of-type {\n",
       "        vertical-align: middle;\n",
       "    }\n",
       "\n",
       "    .dataframe tbody tr th {\n",
       "        vertical-align: top;\n",
       "    }\n",
       "\n",
       "    .dataframe thead th {\n",
       "        text-align: right;\n",
       "    }\n",
       "</style>\n",
       "<table border=\"1\" class=\"dataframe\">\n",
       "  <thead>\n",
       "    <tr style=\"text-align: right;\">\n",
       "      <th></th>\n",
       "      <th>review_score</th>\n",
       "    </tr>\n",
       "    <tr>\n",
       "      <th>experiment_id</th>\n",
       "      <th></th>\n",
       "    </tr>\n",
       "  </thead>\n",
       "  <tbody>\n",
       "    <tr>\n",
       "      <th>101</th>\n",
       "      <td>1.682696</td>\n",
       "    </tr>\n",
       "    <tr>\n",
       "      <th>102</th>\n",
       "      <td>1.548066</td>\n",
       "    </tr>\n",
       "  </tbody>\n",
       "</table>\n",
       "</div>"
      ],
      "text/plain": [
       "               review_score\n",
       "experiment_id              \n",
       "101                1.682696\n",
       "102                1.548066"
      ]
     },
     "execution_count": 25,
     "metadata": {},
     "output_type": "execute_result"
    }
   ],
   "source": [
    "var = df_exp.groupby(\"experiment_id\").var()\n",
    "var"
   ]
  },
  {
   "cell_type": "code",
   "execution_count": 26,
   "metadata": {},
   "outputs": [
    {
     "data": {
      "text/html": [
       "<div>\n",
       "<style scoped>\n",
       "    .dataframe tbody tr th:only-of-type {\n",
       "        vertical-align: middle;\n",
       "    }\n",
       "\n",
       "    .dataframe tbody tr th {\n",
       "        vertical-align: top;\n",
       "    }\n",
       "\n",
       "    .dataframe thead th {\n",
       "        text-align: right;\n",
       "    }\n",
       "</style>\n",
       "<table border=\"1\" class=\"dataframe\">\n",
       "  <thead>\n",
       "    <tr style=\"text-align: right;\">\n",
       "      <th></th>\n",
       "      <th>review_score</th>\n",
       "    </tr>\n",
       "    <tr>\n",
       "      <th>experiment_id</th>\n",
       "      <th></th>\n",
       "    </tr>\n",
       "  </thead>\n",
       "  <tbody>\n",
       "    <tr>\n",
       "      <th>101</th>\n",
       "      <td>1.297188</td>\n",
       "    </tr>\n",
       "    <tr>\n",
       "      <th>102</th>\n",
       "      <td>1.244213</td>\n",
       "    </tr>\n",
       "  </tbody>\n",
       "</table>\n",
       "</div>"
      ],
      "text/plain": [
       "               review_score\n",
       "experiment_id              \n",
       "101                1.297188\n",
       "102                1.244213"
      ]
     },
     "execution_count": 26,
     "metadata": {},
     "output_type": "execute_result"
    }
   ],
   "source": [
    "stds = df_exp.groupby(\"experiment_id\").std()\n",
    "stds"
   ]
  },
  {
   "cell_type": "code",
   "execution_count": 27,
   "metadata": {},
   "outputs": [
    {
     "data": {
      "text/plain": [
       "experiment_id\n",
       "101    19491\n",
       "102    19590\n",
       "dtype: int64"
      ]
     },
     "execution_count": 27,
     "metadata": {},
     "output_type": "execute_result"
    }
   ],
   "source": [
    "ssize = df_exp.groupby(\"experiment_id\").size()\n",
    "ssize"
   ]
  },
  {
   "cell_type": "code",
   "execution_count": 28,
   "metadata": {},
   "outputs": [
    {
     "data": {
      "image/png": "[encoded data removed]",
      "text/plain": [
       "<Figure size 720x432 with 1 Axes>"
      ]
     },
     "metadata": {},
     "output_type": "display_data"
    }
   ],
   "source": [
    "fig, ax = plt.subplots(figsize=(10,6))\n",
    "x = np.linspace(4.1, 4.3)\n",
    "\n",
    "std_a = stds.loc[101, \"review_score\"] / np.sqrt(ssize[101])\n",
    "pdf_a = scipy.stats.norm.pdf(x, \n",
    "                             means.loc[101, \"review_score\"], \n",
    "                             std_a)\n",
    "plt.plot(x, pdf_a);\n",
    "ax.axvline(means.loc[101, \"review_score\"], color=\"r\");\n",
    "\n",
    "std_b = stds.loc[102, \"review_score\"] / np.sqrt(ssize[102])\n",
    "pdf_b = scipy.stats.norm.pdf(x, \n",
    "                             means.loc[102, \"review_score\"], \n",
    "                             std_b)\n",
    "plt.plot(x, pdf_b);\n",
    "ax.axvline(means.loc[102, \"review_score\"], color=\"r\");"
   ]
  },
  {
   "cell_type": "code",
   "execution_count": 29,
   "metadata": {},
   "outputs": [],
   "source": [
    "combined_standard_error = np.sqrt(var.loc[101, \"review_score\"]/ssize[101] + var.loc[102, \"review_score\"]/ssize[102])"
   ]
  },
  {
   "cell_type": "code",
   "execution_count": 30,
   "metadata": {},
   "outputs": [
    {
     "data": {
      "text/plain": [
       "0.012859053235181094"
      ]
     },
     "execution_count": 30,
     "metadata": {},
     "output_type": "execute_result"
    }
   ],
   "source": [
    "combined_standard_error"
   ]
  },
  {
   "cell_type": "code",
   "execution_count": 33,
   "metadata": {},
   "outputs": [],
   "source": [
    "diff_mean = means.loc[101, \"review_score\"] - means.loc[102, \"review_score\"]"
   ]
  },
  {
   "cell_type": "code",
   "execution_count": 34,
   "metadata": {},
   "outputs": [
    {
     "data": {
      "text/plain": [
       "-0.03795115552998407"
      ]
     },
     "execution_count": 34,
     "metadata": {},
     "output_type": "execute_result"
    }
   ],
   "source": [
    "diff_mean"
   ]
  },
  {
   "cell_type": "code",
   "execution_count": 35,
   "metadata": {},
   "outputs": [
    {
     "data": {
      "text/plain": [
       "array([-0.1       , -0.09591837, -0.09183673, -0.0877551 , -0.08367347,\n",
       "       -0.07959184, -0.0755102 , -0.07142857, -0.06734694, -0.06326531,\n",
       "       -0.05918367, -0.05510204, -0.05102041, -0.04693878, -0.04285714,\n",
       "       -0.03877551, -0.03469388, -0.03061224, -0.02653061, -0.02244898,\n",
       "       -0.01836735, -0.01428571, -0.01020408, -0.00612245, -0.00204082,\n",
       "        0.00204082,  0.00612245,  0.01020408,  0.01428571,  0.01836735,\n",
       "        0.02244898,  0.02653061,  0.03061224,  0.03469388,  0.03877551,\n",
       "        0.04285714,  0.04693878,  0.05102041,  0.05510204,  0.05918367,\n",
       "        0.06326531,  0.06734694,  0.07142857,  0.0755102 ,  0.07959184,\n",
       "        0.08367347,  0.0877551 ,  0.09183673,  0.09591837,  0.1       ])"
      ]
     },
     "execution_count": 35,
     "metadata": {},
     "output_type": "execute_result"
    }
   ],
   "source": [
    "np.linspace(-.1, .1)"
   ]
  },
  {
   "cell_type": "code",
   "execution_count": 41,
   "metadata": {},
   "outputs": [
    {
     "data": {
      "image/png": "[encoded data removed]",
      "text/plain": [
       "<Figure size 720x432 with 1 Axes>"
      ]
     },
     "metadata": {},
     "output_type": "display_data"
    }
   ],
   "source": [
    "fig, ax = plt.subplots(figsize=(10,6))\n",
    "\n",
    "x = np.linspace(-.1, .1)\n",
    "pdf_c = scipy.stats.norm.pdf(x,\n",
    "                             0, \n",
    "                             combined_standard_error)\n",
    "plt.plot(x, pdf_c);\n",
    "ax.axvline(0);\n",
    "ax.axvline(0.0128, color=\"g\");\n",
    "ax.axvline(-0.0128, color=\"g\");"
   ]
  },
  {
   "cell_type": "code",
   "execution_count": 38,
   "metadata": {},
   "outputs": [
    {
     "data": {
      "text/plain": [
       "-2.9513180197554103"
      ]
     },
     "execution_count": 38,
     "metadata": {},
     "output_type": "execute_result"
    }
   ],
   "source": [
    "t = diff_mean / combined_standard_error\n",
    "t"
   ]
  },
  {
   "cell_type": "code",
   "execution_count": 42,
   "metadata": {},
   "outputs": [
    {
     "data": {
      "text/plain": [
       "Ttest_indResult(statistic=-2.9513180197554125, pvalue=0.0031660921355939507)"
      ]
     },
     "execution_count": 42,
     "metadata": {},
     "output_type": "execute_result"
    }
   ],
   "source": [
    "scipy.stats.ttest_ind(df_exp.loc[df_exp[\"experiment_id\"]== 101, \"review_score\"], \n",
    "                      df_exp.loc[df_exp[\"experiment_id\"]== 102, \"review_score\"], \n",
    "                      equal_var=False)"
   ]
  },
  {
   "cell_type": "markdown",
   "metadata": {},
   "source": [
    "Applying an alpha-level of 5% (significance leve), we reject the null hypothesis that the mean of both samples are equal. Hence, that the chnge we introduced (treatment) has had a statistically significant impact on the average review_score. The effect size is estimated to be approximately 0.038, resulting in an increase of average review_scores from 4.14 to 4.18.  "
   ]
  },
  {
   "cell_type": "markdown",
   "metadata": {},
   "source": [
    "## Interpreting the p-value\n",
    "\n",
    "Given our samples, assuming the null hypothesis, the likelyhood of obtaining the difference that we observed or more extreme is 0.0031. \n",
    "\n",
    "Generally = Given the data, assuming the null hypothesis is true, how likely is it that we obtain the value we observed or more extreme. \n",
    "\n",
    "How ridiculous is the null hypothesis?? "
   ]
  }
 ],
 "metadata": {
  "kernelspec": {
   "display_name": "Python 3",
   "language": "python",
   "name": "python3"
  },
  "language_info": {
   "codemirror_mode": {
    "name": "ipython",
    "version": 3
   },
   "file_extension": ".py",
   "mimetype": "text/x-python",
   "name": "python",
   "nbconvert_exporter": "python",
   "pygments_lexer": "ipython3",
   "version": "3.8.5"
  }
 },
 "nbformat": 4,
 "nbformat_minor": 2
}
