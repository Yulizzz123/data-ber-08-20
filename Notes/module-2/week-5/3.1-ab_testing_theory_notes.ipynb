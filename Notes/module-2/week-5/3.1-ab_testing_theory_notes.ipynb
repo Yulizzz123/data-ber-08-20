{
 "cells": [
  {
   "cell_type": "markdown",
   "metadata": {},
   "source": [
    "# Day 1"
   ]
  },
  {
   "cell_type": "markdown",
   "metadata": {},
   "source": [
    "# A/B TESTING\n",
    "\n",
    "**1. What is A/B Testing?**\n",
    " - synonymous to experimentation\n",
    " - compare to lab studies (treatment and control group, placebo)\n",
    " --> you want to create a highly controlled environment \n",
    " \n",
    " Eg Study the effect of a productivity/focus pill\n",
    " \n",
    " 1. split participants into 2 groups\n",
    "  - Group A - placebo, control\n",
    "  - Group B - treatment, variant group\n",
    "  - give them the pill and measure the effect for each group\n",
    "  \n",
    " 2. Measure the difference between the 2 groups\n",
    " -> Why do we need the placebo? \n",
    " --> Isolate the effect of the treatment \n",
    " \n",
    "![graph_of_test](ab_testing_img/graph1.png) \n",
    " \n",
    "**2. Correlation doesn't imply causation**\n",
    " - When looking at historical data or something without an A/B set up, we cannot know for certain if we managed to identiy all sources that may influence our dependent variable \n",
    " --> Create a controlled environment\n",
    " \n",
    " --> learn!: you to understand or approximate the casaul effect of something on your dependent variable, so you improve\n",
    " \n",
    "--> slow roll-out of a new feature: you want to understand if a new change might be harmful \n",
    " \n",
    "**3. Design** \n",
    "- Decide what you want to test - ideally test one thing, and one thing only \n",
    "- Pick a decision criterion (dependent variable) BEFORE the start of an experiement. This is the metric you will base your decision on with respect to whether or not the experiment was successful.\n",
    "- Calculate and fix the experiment duration\n",
    "    -> considered peeking when you stop early \n",
    "- DO NOT PEEK  or prematurely cancel just because you have reached significance\n",
    "\n",
    "**4. Controlled Environment**\n",
    "\n",
    "Example: review scores - can we increase review scores by overestimating delivery time?\n",
    "\n",
    "![true_model](ab_testing_img/true_model.png) \n",
    "\n",
    "--> Review score of Group B minus the Review score of Group A must be the effect of over estimated delivery time\n",
    "\n",
    "![treatment_effect](ab_testing_img/treatment_effect.png) \n",
    "\n",
    "\n",
    "Both groups are exposed to exactly the same environment. Everything in that environmnet that my influence you dependent variable, will do so to the same degree. When taking the difference, those effects cancel each other out, isolating the effect of the treatment. \n",
    "\n",
    "**5. Hypothesis testing** \n",
    "\"Innocent until provel guilty\" \n",
    "\n",
    "--> Assumption that we do not accept there is a differnce (impact) unless we have strong evidence to think otherwise\n",
    "\n",
    "![t-test](ab_testing_img/t_test.png) \n",
    "\n",
    "**6. Central Limit Theorem**\n",
    "(Lindeberg Levy CLT) \n",
    "\n",
    "![clt](ab_testing_img/CLT.png) \n",
    "\n",
    "![se](ab_testing_img/se.png) \n",
    "\n",
    "\n",
    "**7. T-Test**\n",
    "- unequal variance\n",
    "- unequal sample size\n",
    "--> Welch's T-Test\n",
    "![t-test](ab_testing_img/t-test.png) \n",
    "![p-value](ab_testing_img/p-value.png) \n",
    "\n"
   ]
  },
  {
   "cell_type": "markdown",
   "metadata": {},
   "source": [
    "# Day 2"
   ]
  },
  {
   "cell_type": "markdown",
   "metadata": {},
   "source": [
    "### Recap\n",
    "- improving review_score\n",
    "![ab-recap](ab_testing_img/ab_recap.png) \n",
    "\n",
    "![accept_h0](ab_testing_img/h0.png) \n",
    "\n",
    "![reject_h0](ab_testing_img/reject_h0.png) \n",
    "\n",
    "![t-relationship](ab_testing_img/t-relationship.png) \n"
   ]
  },
  {
   "cell_type": "markdown",
   "metadata": {},
   "source": [
    "**8. P-Value**\n",
    "- given our data (sample)\n",
    "- assuming our null hypothesis (no difference)\n",
    "--> How likely is it that we obtained the value we observed or more extreme (in magnitude)? \n",
    "\n",
    "**9. Influencing Factors**\n",
    "\n",
    "    1. Effect Size \n",
    "    2. Variance of each sample\n",
    "    3. Sample Size \n",
    "    (4. Alpha level, 5%)\n",
    "    \n",
    "\n",
    "**Summary** \n",
    "1. Pick the right metric \n",
    "2. T-test doesn't test for effect size\n",
    "3. Account for novelty bias \n",
    "4. Exclude Users that were not exposed to treatment \n",
    "5. Calculate the duration before and stick to it. \n",
    "    \n",
    "\n",
    "\n",
    "\n",
    "\n",
    "\n",
    "\n",
    "\n",
    "\n",
    "\n",
    "\n",
    "\n"
   ]
  },
  {
   "cell_type": "code",
   "execution_count": null,
   "metadata": {},
   "outputs": [],
   "source": []
  }
 ],
 "metadata": {
  "kernelspec": {
   "display_name": "Python 3",
   "language": "python",
   "name": "python3"
  },
  "language_info": {
   "codemirror_mode": {
    "name": "ipython",
    "version": 3
   },
   "file_extension": ".py",
   "mimetype": "text/x-python",
   "name": "python",
   "nbconvert_exporter": "python",
   "pygments_lexer": "ipython3",
   "version": "3.8.5"
  }
 },
 "nbformat": 4,
 "nbformat_minor": 4
}
